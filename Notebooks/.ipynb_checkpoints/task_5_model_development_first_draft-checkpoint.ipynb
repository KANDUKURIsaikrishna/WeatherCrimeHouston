{
 "cells": [
  {
   "cell_type": "markdown",
   "id": "d9cc6189",
   "metadata": {},
   "source": [
    "# Model Development "
   ]
  },
  {
   "cell_type": "code",
   "execution_count": 41,
   "id": "58ad754c",
   "metadata": {},
   "outputs": [],
   "source": [
    "# pip install gradio"
   ]
  },
  {
   "cell_type": "markdown",
   "id": "d4644fef",
   "metadata": {},
   "source": [
    "Import the necessary library"
   ]
  },
  {
   "cell_type": "code",
   "execution_count": 1,
   "id": "fc81ea29",
   "metadata": {},
   "outputs": [],
   "source": [
    "import gradio as gr\n",
    "import matplotlib.pyplot as plt\n",
    "import pandas as pd \n",
    "import pickle\n",
    "import numpy as np"
   ]
  },
  {
   "cell_type": "markdown",
   "id": "97f23e0e",
   "metadata": {},
   "source": [
    "The idea was to have multiple model be deployed and also displayed the visualization page. In Gradio we can have multiple pages for our machine learning model. Currently I created 2 page, it can be added more."
   ]
  },
  {
   "cell_type": "markdown",
   "id": "469a1b41",
   "metadata": {},
   "source": [
    "First page is Visualization page (Remarks: This is just a very basic visualization, we would need help on this to create meaningful visualization)"
   ]
  },
  {
   "cell_type": "code",
   "execution_count": 2,
   "id": "f8472203",
   "metadata": {},
   "outputs": [],
   "source": [
    "title = \"Crime Rate Prediction Based on Weather Forecast\"\n",
    "\n",
    "#app 1 Visualisation\n",
    "def visualization(name):\n",
    "    df = pd.read_csv('daily crime numbers and weather data for time series analysis.csv', index_col='date', parse_dates=['date'])\n",
    "    \n",
    "    fig, ax = plt.subplots(figsize=(15, 4))\n",
    "    df.plot(y='Offense Count', ax=ax, label='Dataset', title='Data Visualization', linewidth=1)\n",
    "    plt.xlabel(\"Date\")\n",
    "    plt.ylabel('Offense Count')\n",
    "    plt.grid()\n",
    "    return fig\n",
    "    \n",
    "output = gr.Plot()\n"
   ]
  },
  {
   "cell_type": "markdown",
   "id": "4f4e8f1e",
   "metadata": {},
   "source": [
    "Second page is the prediction page, we are using EBM model as of now. There are total of 47 features according to the notebook. However, I have manually reset the value to zero if the feature is missing."
   ]
  },
  {
   "cell_type": "code",
   "execution_count": 3,
   "id": "1628560e",
   "metadata": {},
   "outputs": [],
   "source": [
    "#app 2 Prediction\n",
    "with open(\"../model/ebm.pkl\", \"rb\") as model_file:\n",
    "    model = pickle.load(model_file)\n",
    "\n",
    "\n",
    "def predict_crime_rate(month, year, is_holiday, is_weekend, tempmax, tempmin,\n",
    "                       temp, feelslikemax, feelslikemin, feelslike, dew, humidity,\n",
    "                       precip, precipcover, windgust, windspeed, winddir,\n",
    "                       sealevelpressure, cloudcover, visibility, solarradiation,\n",
    "                       uvindex, moonphase, Clear, Overcast, Partiallycloudy, Rain,\n",
    "                       Snow, daytime_interval, lag_1_Offense_Count,\n",
    "                       lag_2_Offense_Count, lag_3_Offense_Count, lag_4_Offense_Count,\n",
    "                       lag_5_Offense_Count, lag_6_Offense_Count, lag_7_Offense_Count,\n",
    "                       week_Friday, week_Monday, week_Saturday, week_Sunday,\n",
    "                       week_Thursday, week_Tuesday, week_Wednesday, season_Autumn,\n",
    "                       season_Spring, season_Summer, season_Winter):\n",
    "    # Convert all inputs to a NumPy array\n",
    "    input_data = np.array([\n",
    "        [month, year, is_holiday, is_weekend, tempmax, tempmin, temp, feelslikemax, feelslikemin, feelslike, dew, humidity,\n",
    "         precip, precipcover, windgust, windspeed, winddir, sealevelpressure, cloudcover, visibility, solarradiation, uvindex,\n",
    "         moonphase, Clear, Overcast, Partiallycloudy, Rain, Snow, daytime_interval, lag_1_Offense_Count,\n",
    "         lag_2_Offense_Count, lag_3_Offense_Count, lag_4_Offense_Count, lag_5_Offense_Count, lag_6_Offense_Count, lag_7_Offense_Count,\n",
    "         week_Friday, week_Monday, week_Saturday, week_Sunday, week_Thursday, week_Tuesday, week_Wednesday, season_Autumn,\n",
    "         season_Spring, season_Summer, season_Winter]\n",
    "    ])\n",
    "\n",
    "    # Fill in missing values (None) with 0\n",
    "    input_data = np.nan_to_num(input_data)\n",
    "\n",
    "    # Make predictions using your model\n",
    "    prediction = model.predict(input_data)\n",
    "    return f\"Predicted Crime Rate: {prediction[0]:.2f}\"\n",
    "\n"
   ]
  },
  {
   "cell_type": "markdown",
   "id": "fff4b9ca",
   "metadata": {},
   "source": [
    "This is our input, I believe we need 47 inputs here to have a better prediction. As of now this is the base of it, you can try to create more."
   ]
  },
  {
   "cell_type": "code",
   "execution_count": 4,
   "id": "9fd1af17",
   "metadata": {},
   "outputs": [],
   "source": [
    "input_components = [\n",
    "    gr.Dropdown([1,2,3,4,5,6,7,8,9,10,11,12], label=\"Month\"),\n",
    "    gr.Number(value=2023, label=\"Year\"),\n",
    "    gr.Checkbox(label=\"Is Holiday\"),\n",
    "    gr.Checkbox(label=\"Is Weekend\"),\n",
    "    gr.Slider(minimum=0, maximum=100, value=50, label=\"Temp Max (°F)\"),\n",
    "    gr.Slider(minimum=0, maximum=100, value=50, label=\"Temp Min (°F)\"),\n",
    "    gr.Slider(minimum=0, maximum=100, value=50, label=\"Temp (°F)\"),\n",
    "    gr.Slider(minimum=0, maximum=100, value=50, label=\"Feels Like Max (°F)\"),\n",
    "    gr.Slider(minimum=0, maximum=100, value=50, label=\"Feels Like Min (°F)\"),\n",
    "]"
   ]
  },
  {
   "cell_type": "code",
   "execution_count": null,
   "id": "c6ba6106",
   "metadata": {},
   "outputs": [],
   "source": []
  },
  {
   "cell_type": "markdown",
   "id": "413b03d6",
   "metadata": {},
   "source": [
    "Putting everything together, this is how you launch the web application. Again, this is running on local, but i believe deployment of the web should be come next once we have a better idea on our web design."
   ]
  },
  {
   "cell_type": "code",
   "execution_count": 5,
   "id": "ec76440c",
   "metadata": {},
   "outputs": [
    {
     "name": "stderr",
     "output_type": "stream",
     "text": [
      "C:\\Users\\YX\\Documents\\QX\\Omdena\\WeatherCrimeHouston\\weathercrime_env\\lib\\site-packages\\gradio\\utils.py:810: UserWarning: Expected 1 arguments for function <function visualization at 0x000002A5C2675A20>, received 0.\n",
      "  warnings.warn(\n",
      "C:\\Users\\YX\\Documents\\QX\\Omdena\\WeatherCrimeHouston\\weathercrime_env\\lib\\site-packages\\gradio\\utils.py:814: UserWarning: Expected at least 1 arguments for function <function visualization at 0x000002A5C2675A20>, received 0.\n",
      "  warnings.warn(\n",
      "C:\\Users\\YX\\Documents\\QX\\Omdena\\WeatherCrimeHouston\\weathercrime_env\\lib\\site-packages\\gradio\\utils.py:810: UserWarning: Expected 47 arguments for function <function predict_crime_rate at 0x000002A5BD9B0040>, received 9.\n",
      "  warnings.warn(\n",
      "C:\\Users\\YX\\Documents\\QX\\Omdena\\WeatherCrimeHouston\\weathercrime_env\\lib\\site-packages\\gradio\\utils.py:814: UserWarning: Expected at least 47 arguments for function <function predict_crime_rate at 0x000002A5BD9B0040>, received 9.\n",
      "  warnings.warn(\n",
      "C:\\Users\\YX\\Documents\\QX\\Omdena\\WeatherCrimeHouston\\weathercrime_env\\lib\\site-packages\\gradio\\blocks.py:1033: UserWarning: api_name predict already exists, using predict_1\n",
      "  warnings.warn(\n"
     ]
    }
   ],
   "source": [
    "#interface 1\n",
    "app1 =  gr.Interface(fn = visualization, inputs=None, outputs=output)\n",
    "\n",
    "#interface 2\n",
    "app2 = gr.Interface(\n",
    "    fn=predict_crime_rate,\n",
    "    inputs=input_components,\n",
    "    outputs=\"text\",\n",
    "    live=True,\n",
    "    title=\"Crime Rate Prediction App\",\n",
    "    description=\"Enter the features for prediction. Missing values will be filled with 0.\",\n",
    ")\n",
    "\n",
    "demo = gr.TabbedInterface([app1, app2], [\"Home Page\", \"EBM Prediction\"])\n"
   ]
  },
  {
   "cell_type": "code",
   "execution_count": 7,
   "id": "fc512525",
   "metadata": {},
   "outputs": [
    {
     "name": "stdout",
     "output_type": "stream",
     "text": [
      "Rerunning server... use `close()` to stop if you need to change `launch()` parameters.\n",
      "----\n",
      "Running on public URL: https://a59dea202329a7d3df.gradio.live\n",
      "\n",
      "This share link expires in 72 hours. For free permanent hosting and GPU upgrades, run `gradio deploy` from Terminal to deploy to Spaces (https://huggingface.co/spaces)\n"
     ]
    },
    {
     "data": {
      "text/html": [
       "<div><iframe src=\"https://a59dea202329a7d3df.gradio.live\" width=\"100%\" height=\"500\" allow=\"autoplay; camera; microphone; clipboard-read; clipboard-write;\" frameborder=\"0\" allowfullscreen></iframe></div>"
      ],
      "text/plain": [
       "<IPython.core.display.HTML object>"
      ]
     },
     "metadata": {},
     "output_type": "display_data"
    },
    {
     "data": {
      "text/plain": []
     },
     "execution_count": 7,
     "metadata": {},
     "output_type": "execute_result"
    },
    {
     "name": "stderr",
     "output_type": "stream",
     "text": [
      "C:\\Users\\YX\\Documents\\QX\\Omdena\\WeatherCrimeHouston\\weathercrime_env\\lib\\site-packages\\gradio\\helpers.py:773: UserWarning: Unexpected argument. Filling with None.\n",
      "  warnings.warn(\"Unexpected argument. Filling with None.\")\n"
     ]
    }
   ],
   "source": [
    "demo.launch(share=True)"
   ]
  },
  {
   "cell_type": "code",
   "execution_count": null,
   "id": "71ed9fce",
   "metadata": {},
   "outputs": [],
   "source": []
  },
  {
   "cell_type": "code",
   "execution_count": null,
   "id": "129d03e6",
   "metadata": {},
   "outputs": [],
   "source": []
  },
  {
   "cell_type": "code",
   "execution_count": null,
   "id": "1fbd084b",
   "metadata": {},
   "outputs": [],
   "source": []
  },
  {
   "cell_type": "code",
   "execution_count": null,
   "id": "c0da0686",
   "metadata": {},
   "outputs": [],
   "source": []
  },
  {
   "cell_type": "code",
   "execution_count": null,
   "id": "039b2fbe",
   "metadata": {},
   "outputs": [],
   "source": []
  },
  {
   "cell_type": "code",
   "execution_count": null,
   "id": "69155b13",
   "metadata": {},
   "outputs": [],
   "source": []
  }
 ],
 "metadata": {
  "kernelspec": {
   "display_name": "Python 3 (ipykernel)",
   "language": "python",
   "name": "python3"
  },
  "language_info": {
   "codemirror_mode": {
    "name": "ipython",
    "version": 3
   },
   "file_extension": ".py",
   "mimetype": "text/x-python",
   "name": "python",
   "nbconvert_exporter": "python",
   "pygments_lexer": "ipython3",
   "version": "3.10.7"
  }
 },
 "nbformat": 4,
 "nbformat_minor": 5
}
