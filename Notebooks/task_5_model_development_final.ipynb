{
 "cells": [
  {
   "cell_type": "markdown",
   "id": "ff758195",
   "metadata": {},
   "source": [
    "# Model Development Final"
   ]
  },
  {
   "cell_type": "code",
   "execution_count": 1,
   "id": "d56bce76",
   "metadata": {},
   "outputs": [],
   "source": [
    "import gradio as gr\n",
    "import matplotlib.pyplot as plt\n",
    "import pandas as pd \n",
    "import pickle\n",
    "import numpy as np"
   ]
  },
  {
   "cell_type": "markdown",
   "id": "e452c69e",
   "metadata": {},
   "source": [
    "The application uses two datasets: one for \"August\" and one for \"September.\"\n",
    "The \"August\" dataset includes the actual crime rates.\n",
    "The \"September\" dataset includes predicted crime rates.\n",
    "Both dataset are extracted from the data collection team, while the September dataset is saved from EBM model notebook developed by Xuan Qin where using the predicted crime rate as lag feature to predict September Crime Rate. "
   ]
  },
  {
   "cell_type": "code",
   "execution_count": 90,
   "id": "34d734d1",
   "metadata": {},
   "outputs": [],
   "source": [
    "august_df = pd.read_csv(\"august_predict_data.csv\")"
   ]
  },
  {
   "cell_type": "code",
   "execution_count": 91,
   "id": "ef3b0507",
   "metadata": {},
   "outputs": [
    {
     "name": "stderr",
     "output_type": "stream",
     "text": [
      "C:\\Users\\Zac\\AppData\\Local\\Temp\\ipykernel_24848\\2137217553.py:8: UserWarning: FixedFormatter should only be used together with FixedLocator\n",
      "  ax.set_xticklabels(date, rotation=90)\n",
      "C:\\Users\\Zac\\AppData\\Local\\Temp\\ipykernel_24848\\3820833788.py:9: UserWarning: FixedFormatter should only be used together with FixedLocator\n",
      "  ax.set_xticklabels(date, rotation=90)\n"
     ]
    }
   ],
   "source": [
    "sep_df = pd.read_csv(\"predicted_september_crime.csv\")"
   ]
  },
  {
   "cell_type": "markdown",
   "id": "92bf9bd2",
   "metadata": {},
   "source": [
    "Load the EBM model"
   ]
  },
  {
   "cell_type": "code",
   "execution_count": 14,
   "id": "40e3b010",
   "metadata": {},
   "outputs": [],
   "source": [
    "def predict_august(data):\n",
    "    # Predict using the loaded model\n",
    "    with open(\"ebm.pkl\", \"rb\") as model_file:\n",
    "        ebm = pickle.load(model_file)\n",
    "    predictions = ebm.predict(data)\n",
    "    return predictions"
   ]
  },
  {
   "cell_type": "markdown",
   "id": "bc13ecb1",
   "metadata": {},
   "source": [
    "Slice the August dataset so that the EBM model can predict the August Crime Data"
   ]
  },
  {
   "cell_type": "code",
   "execution_count": 16,
   "id": "c24380c5",
   "metadata": {},
   "outputs": [],
   "source": [
    "X_data2308 = august_df.drop('Offense Count', axis=1)"
   ]
  },
  {
   "cell_type": "markdown",
   "id": "ec792c02",
   "metadata": {},
   "source": [
    "Function for creating chart"
   ]
  },
  {
   "cell_type": "code",
   "execution_count": 79,
   "id": "7fe53654",
   "metadata": {},
   "outputs": [],
   "source": [
    "def plot_actual_vs_predicted_august(data,predictions):\n",
    "    fig, ax = plt.subplots(figsize=(10, 6))\n",
    "    \n",
    "    date = data['date'].to_numpy()\n",
    "    actual = data['Offense Count'].to_numpy()\n",
    "    \n",
    "    ax.plot(date, actual, label='Actual', marker='o', linestyle='-', markersize=5)\n",
    "    ax.plot(date, predictions, label='Predicted', marker='o', linestyle='-', markersize=5)\n",
    "    ax.set_xticklabels(date, rotation=90)  \n",
    "    ax.xaxis.set_major_locator(plt.FixedLocator(np.arange(len(date))))\n",
    "    ax.set_xticklabels(date)\n",
    "    ax.set_xlabel('Date')\n",
    "    ax.set_ylabel('Crime Rate')\n",
    "    ax.set_title('Actual vs. Predicted Crime Rate (August)')\n",
    "    ax.grid(True)\n",
    "    ax.legend()\n",
    "    return fig"
   ]
  },
  {
   "cell_type": "code",
   "execution_count": 81,
   "id": "49f67124",
   "metadata": {},
   "outputs": [],
   "source": [
    "def plot_predicted_september(data):\n",
    "    fig, ax = plt.subplots(figsize=(10, 6))\n",
    "    \n",
    "    date = data['date'].to_numpy()\n",
    "    predicted = data['Offense Count'].to_numpy()\n",
    "    \n",
    "    ax.plot(date, predicted, label='Predicted', marker='o', linestyle='-', markersize=5, color='orange')  \n",
    "    ax.set_xticklabels(date, rotation=90) \n",
    "    ax.xaxis.set_major_locator(plt.FixedLocator(np.arange(len(date))))\n",
    "    ax.set_xticklabels(date)\n",
    "    ax.set_xlabel('date')\n",
    "    ax.set_ylabel('Crime Rate')\n",
    "    ax.set_title('Predicted Crime Rate (September)')\n",
    "    ax.grid(True)\n",
    "    ax.legend()\n",
    "    return fig"
   ]
  },
  {
   "cell_type": "markdown",
   "id": "f82c97e4",
   "metadata": {},
   "source": [
    "Function for creating gradio interface "
   ]
  },
  {
   "cell_type": "code",
   "execution_count": 86,
   "id": "3b151362",
   "metadata": {},
   "outputs": [],
   "source": [
    "def gradio_interface(month):\n",
    "    if month == 'August':\n",
    "        predictions = predict_august(X_data2308)\n",
    "        fig = plot_actual_vs_predicted_august(august_df, predictions)\n",
    "        table_data = {'Date': X_data2308['date'], 'Predicted': [round(i,0) for i in predictions]}\n",
    "    else:  # For September\n",
    "        fig = plot_predicted_september(sep_df)\n",
    "        table_data = {'Date': sep_df['date'], 'Predicted': sep_df['Offense Count']}\n",
    "    \n",
    "    return fig, pd.DataFrame(table_data)"
   ]
  },
  {
   "cell_type": "markdown",
   "id": "89d6c3c6",
   "metadata": {},
   "source": [
    "There are 2 tabs, one for home page and the other for EBM visualization. You are free to edit the content of the homepage to make it more meaningful"
   ]
  },
  {
   "cell_type": "code",
   "execution_count": null,
   "id": "1f7a2b8a",
   "metadata": {},
   "outputs": [],
   "source": [
    "app1 =  gr.Markdown(\n",
    "    \"\"\"\n",
    "    # Discovering the Relationship Between Crime Statistics and Weather in the Houston Area\n",
    "\n",
    "    ![Houston Image](file/houston.jpg){width=50}\n",
    "\n",
    "    *Climate change is a pressing concern for metropolitan areas like Houston, TX, with its rapid population growth posing social, safety, and economic challenges.* The proposed project aims to investigate the relationship between weather and crime statistics in Houston. As global temperatures rise, weather events such as heatwaves, hurricanes, and heavy rainfall may impact crime rates.\n",
    "\n",
    "    ## Project Background\n",
    "\n",
    "    ![Data Analysis](file/5031659.jpg)\n",
    "\n",
    "    *Analyzing historical crime and weather data, the project seeks to provide data-backed insights for law enforcement to address weather-related crime spikes and enhance public safety during extreme weather events.*\n",
    "\n",
    "    This project's significance lies in its potential to inform crime prevention strategies and resource allocation for law enforcement in Houston.\n",
    "\n",
    "    **Understanding how weather patterns influence criminal behaviors can lead to targeted approaches in mitigating weather-related crime and building more resilient urban environments.** By leveraging data science and crime analysis, the project contributes to creating safer communities amid the challenges posed by climate change.\n",
    "\n",
    "    [Learn more about our project](https://omdena.com/chapter-challenges/discover-the-relationship-between-crime-statistics-and-weather-in-the-houston-area/)\n",
    "\n",
    "    **Join us in this journey to make Houston safer, more resilient, and ready to face the challenges of climate change.**\n",
    "    \"\"\")"
   ]
  },
  {
   "cell_type": "code",
   "execution_count": 87,
   "id": "99b9ab16",
   "metadata": {},
   "outputs": [],
   "source": [
    "app2 = gr.Interface(\n",
    "    fn=gradio_interface,\n",
    "    inputs=gr.Dropdown(['August', 'September'], label=\"Select Month\"),\n",
    "    outputs=[gr.Plot(), gr.Dataframe()],\n",
    "    live=True,\n",
    "    title=\"Crime Rate Prediction and Visualization\",\n",
    ")"
   ]
  },
  {
   "cell_type": "code",
   "execution_count": 88,
   "id": "0053f975",
   "metadata": {},
   "outputs": [],
   "source": [
    "demo = gr.TabbedInterface([app1, app2], [\"Home Page\", \"EBM Prediction\"])"
   ]
  },
  {
   "cell_type": "code",
   "execution_count": 89,
   "id": "97a1df29",
   "metadata": {},
   "outputs": [
    {
     "name": "stdout",
     "output_type": "stream",
     "text": [
      "Running on local URL:  http://127.0.0.1:7871\n",
      "\n",
      "To create a public link, set `share=True` in `launch()`.\n"
     ]
    },
    {
     "data": {
      "text/html": [
       "<div><iframe src=\"http://127.0.0.1:7871/\" width=\"100%\" height=\"500\" allow=\"autoplay; camera; microphone; clipboard-read; clipboard-write;\" frameborder=\"0\" allowfullscreen></iframe></div>"
      ],
      "text/plain": [
       "<IPython.core.display.HTML object>"
      ]
     },
     "metadata": {},
     "output_type": "display_data"
    },
    {
     "data": {
      "text/plain": []
     },
     "execution_count": 89,
     "metadata": {},
     "output_type": "execute_result"
    },
    {
     "name": "stderr",
     "output_type": "stream",
     "text": [
      "C:\\Users\\Zac\\AppData\\Local\\Temp\\ipykernel_24848\\3820833788.py:9: UserWarning: FixedFormatter should only be used together with FixedLocator\n",
      "  ax.set_xticklabels(date, rotation=90)\n"
     ]
    }
   ],
   "source": [
    "demo.launch()"
   ]
  },
  {
   "cell_type": "code",
   "execution_count": null,
   "id": "6b6b32eb",
   "metadata": {},
   "outputs": [],
   "source": []
  }
 ],
 "metadata": {
  "kernelspec": {
   "display_name": "Python 3 (ipykernel)",
   "language": "python",
   "name": "python3"
  },
  "language_info": {
   "codemirror_mode": {
    "name": "ipython",
    "version": 3
   },
   "file_extension": ".py",
   "mimetype": "text/x-python",
   "name": "python",
   "nbconvert_exporter": "python",
   "pygments_lexer": "ipython3",
   "version": "3.8.12"
  }
 },
 "nbformat": 4,
 "nbformat_minor": 5
}
